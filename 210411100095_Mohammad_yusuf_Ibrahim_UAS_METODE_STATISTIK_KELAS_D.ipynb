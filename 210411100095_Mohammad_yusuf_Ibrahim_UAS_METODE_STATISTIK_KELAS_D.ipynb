{
  "nbformat": 4,
  "nbformat_minor": 0,
  "metadata": {
    "colab": {
      "name": "210411100095_Mohammad yusuf Ibrahim_UAS_METODE_STATISTIK_KELAS_D.ipynb",
      "provenance": [],
      "include_colab_link": true
    },
    "kernelspec": {
      "name": "python3",
      "display_name": "Python 3"
    },
    "language_info": {
      "name": "python"
    }
  },
  "cells": [
    {
      "cell_type": "markdown",
      "metadata": {
        "id": "view-in-github",
        "colab_type": "text"
      },
      "source": [
        "<a href=\"https://colab.research.google.com/github/whintaaa/210411100095_Mohammad-yusuf-Ibrahim_UAS_METODE_STATISTIK_KELAS_D/blob/main/210411100095_Mohammad_yusuf_Ibrahim_UAS_METODE_STATISTIK_KELAS_D.ipynb\" target=\"_parent\"><img src=\"https://colab.research.google.com/assets/colab-badge.svg\" alt=\"Open In Colab\"/></a>"
      ]
    },
    {
      "cell_type": "markdown",
      "source": [
        "NAMA : Muhammad yusuf ibrahim\n",
        "\n",
        "NIM : 210411100095\n",
        "\n",
        "KELAS : IF D\n",
        "\n",
        "NO WHATSAPP : https://wa.me/+6289524991721\n",
        "\n",
        "UAS METODE STATISTIKA"
      ],
      "metadata": {
        "id": "_Kit_gE2ZVp_"
      }
    },
    {
      "cell_type": "markdown",
      "source": [
        "#INTERVAL KEPERCAYAAN"
      ],
      "metadata": {
        "id": "EMLJU1YPSO1M"
      }
    },
    {
      "cell_type": "markdown",
      "source": [
        "Interval Kepercayaan adalah salah satu parameter untuk mengukur atau mengestimasi seberapa akurat rerata atau proporsi sebuah sampel mewakili populasi sesungguhnya. Nilai dari suatu kelompok sampel dalam populasi dapat diperkirakan dengan dua cara, yakni point estimate (Pendugaan Titik) dan Interval Estimate (Pendugaan Interval).\n",
        "\n",
        "- Point estimate (Pendugaan Titik) adalah suatu nilai (suatu titik) yang digunakan untuk menduga suatu nilai parameter. Point estimate dapat berupa rerata atau proporsi.\n",
        "-  Interval Estimate (Pendugaan Interval) merupakan suatu interval yang menyatakan selang, dimana nilai yang sebenarnya dari populasi mungkin berada."
      ],
      "metadata": {
        "id": "GVEm8x07SqAa"
      }
    },
    {
      "cell_type": "markdown",
      "source": [
        "Interval kepercayaan merupakan nilai parameter dari suatu populasi yang ingin ditaksir berdasarkan data dari sampel. Pada pendekatan ini harus ditentukan batas atas dan batas bawah interval. Setiap pengambilan sampel akan menghasilkan nilai yang berbeda dalam rentang interval. Lebar interval menentukan ketepatan suatu estimasi.\n",
        "\n",
        "Interval kepercayaan yang sempit menghasilkan presisi yang baik dan sebaliknya apabila interval kepercayaan yang lebar menghasilnya presisi yang buruk. Interval kepercayaan dapat digunakan untuk mengukur variasi sampel dalam suatu populasi dan dapat memperkirakan letak nilai yang sebenarnya dari populasi tersebut.\n",
        "\n",
        "Interval Kepercayaan terdiri dari tiga komponen yaitu nilai statistik (rerata atau proporsi), tingkat kepercayaan, dan derajat penyimpangan (standar error). Semakin sempit interval, menghasilkan presisi yang baik. Interval kepercayaan untuk proporsi dapat dilakukan jika variabelnya berupa kategorik."
      ],
      "metadata": {
        "id": "N7GKEnWQahmS"
      }
    },
    {
      "cell_type": "markdown",
      "source": [
        "**INTERVAL KEPERCAYAAN UNTUK PROPORSI POPULASI** \n",
        "\n",
        "Interval kepercayaan untuk proporsi dapat dilakukan jika variabelnya berupa kategorik\n",
        "\n",
        "• Rumus secara umum untuk semua interval konfidensi yaitu\n",
        "\n",
        "CI = Estimasi titik ± (Convidence level x Standar Error)\n",
        "\n",
        "**CI = 𝑷 ± 𝒁√𝑷(𝟏−𝒑)/𝒏**\n",
        "\n",
        "* CI : conviden interval/interval kepercayaan\n",
        "* P : proporsi sampel\n",
        "* Z : tingkat kepercayaan\n",
        "* N : jumlah sampel\n",
        "\n",
        "**Konstanta tingkat kepercayaan (confidence level)**\n",
        "* confidence level 99%, Z = ± 2.575\n",
        "* confidence level 95%, Z = ± 1.96\n",
        "* confidence level 90%, Z = ± 1.645\n",
        "* confidence level 80%, Z = ± 1.28"
      ],
      "metadata": {
        "id": "PLwlN8yVZ33d"
      }
    },
    {
      "cell_type": "markdown",
      "source": [
        "**Contoh**\n",
        "\n",
        "* Suatu sampel acak dari 100 orang, menunjukkan\n",
        "bahwa 25 diantaranya menderita katarak kapsular\n",
        "posterior.\n",
        "* Buat interval konfidensi 95% untuk proporsi\n",
        "sebenarnya anggota populasi pasien dengan katarak\n",
        "kapsular posterior.\n",
        "\n",
        "jawab:\n",
        "\n",
        "CI = 𝑷 ± 𝒁√𝑷(𝟏−𝒑)/𝒏\n",
        "   = 25/100 ± 1.96√0.25(0.75)/100\n",
        "   = 0,1651 ≤ π ≤ 0,3349\n",
        "\n",
        "Yang artinya Kita yakin 95% bahwa proporsi populasi\n",
        "pasien dengan katarak kapsular posterior adalah\n",
        "diantara 16.51% dan 33.49%. Hal ini juga berarti\n",
        "bahwa 5% dari pengulangan atau 1 dari 20 kali\n",
        "pengulangan akan muncul hipotesis nol atau nilai\n",
        "diluar interval (0,1651-0,3349)."
      ],
      "metadata": {
        "id": "8-V62L00Z6NV"
      }
    },
    {
      "cell_type": "code",
      "source": [
        "import statistics\n",
        "data = [50, 58, 43, 64, 47, 50, 56, 47, 60, 64]\n",
        "print('data = ',data)\n",
        "\n",
        "print('\\n===== nilai rata - rata =====')\n",
        "ratarata = statistics.mean(data)\n",
        "print(f'mean = {ratarata}')"
      ],
      "metadata": {
        "colab": {
          "base_uri": "https://localhost:8080/"
        },
        "id": "8MRRnmsGMYCm",
        "outputId": "ad8f7fb1-9f62-4127-a74f-5de499ebe6aa"
      },
      "execution_count": null,
      "outputs": [
        {
          "output_type": "stream",
          "name": "stdout",
          "text": [
            "data =  [50, 58, 43, 64, 47, 50, 56, 47, 60, 64]\n",
            "\n",
            "===== nilai rata - rata =====\n",
            "mean = 53.9\n"
          ]
        }
      ]
    },
    {
      "cell_type": "markdown",
      "source": [
        "## **Standar Deviasi**"
      ],
      "metadata": {
        "id": "OPENAzzYZ-uq"
      }
    },
    {
      "cell_type": "markdown",
      "source": [
        "Standar Deviasi adalah salah satu nilai statistik yang digunakan untuk menentukan bagaimana persebaran data dalam suatu sampel, dan seberapa dekat elemen data-data yang ada dengan mean dari sampel tersebut.\n",
        "\n",
        "Dalam pemakaiannya, standar deviasi berfungsi untuk menentukan seberapa heterogen elemen data yang terdapat dalam sebuah data. Semakin besar selisihnya dengan mean, semakin heterogen data yang terdapat dalam populasi atau sampel.\n",
        "\n",
        "Dalam pembentukkan rumusnya, standar deviasi merupakan akar kuadrat dari variansi, yang mana variansi itu sendiri dicari dengan menghitung selisih dari setiap elemen data dengan mean data tersebut.\n",
        "\n",
        "Variansi dibedakan menjadi dua (variansi populasi (σ2) dan variansi sampel (S2)), sehingga hal tersebut pun berlaku pada standar deviasi yang merupakan akar dari variansi yaitu standar deviasi populasi (σ) dan standar deviasi sampel (S)."
      ],
      "metadata": {
        "id": "uYfkOD8eZ_cW"
      }
    },
    {
      "cell_type": "markdown",
      "source": [
        "**Rumus Standar Deviasi**\n",
        "\n",
        "Dalam pembentukkan rumusnya, standar deviasi merupakan akar kuadrat dari variansi, yang mana variansi itu sendiri dicari dengan menghitung selisih dari setiap elemen data dengan mean data tersebut.\n",
        "\n",
        "Variansi dibedakan menjadi dua (variansi populasi (σ2) dan variansi sampel (S2)), sehingga hal tersebut pun berlaku pada standar deviasi yang merupakan akar dari variansi yaitu standar deviasi populasi (σ) dan standar deviasi sampel (S).\n",
        "\n",
        "Rumus standar deviasi populasi adalah sebagai berikut:"
      ],
      "metadata": {
        "id": "l6rWuH5UaFrD"
      }
    },
    {
      "cell_type": "markdown",
      "source": [
        "![WhatsApp Image 2022-06-28 at 13.14.52.jpeg](data:image/jpeg;base64,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)"
      ],
      "metadata": {
        "id": "72KQixmWaHcK"
      }
    },
    {
      "cell_type": "code",
      "source": [
        "import statistics\n",
        "data = [50, 58, 43, 64, 47, 50, 56, 47, 60, 64]\n",
        "simpanganbakupopulasi = statistics.pstdev(data)\n",
        "print(simpanganbakupopulasi)"
      ],
      "metadata": {
        "colab": {
          "base_uri": "https://localhost:8080/"
        },
        "id": "_1dLsclWaLiW",
        "outputId": "eee4d86b-7652-4560-844c-5892dea650f7"
      },
      "execution_count": null,
      "outputs": [
        {
          "output_type": "stream",
          "name": "stdout",
          "text": [
            "7.119691004531025\n"
          ]
        }
      ]
    },
    {
      "cell_type": "markdown",
      "source": [
        "## **SKEWNESS DAN KURTOSIS**"
      ],
      "metadata": {
        "id": "S1y0G7IeaUCH"
      }
    },
    {
      "cell_type": "markdown",
      "source": [
        "Skewness  (kemiringan) dan  kurtosis  (keruncingan) merupakan ukuran untuk melihat apakah suatudata  statistik   terdistribusi   secara   normal   atau   tidak.  Skewness  adalah   ukuran   yang   menyatakanderajat ketidaksimetrisan kurva distribusi frekuensi, atau dengan kata lain menunjukkan seberapajauh   distribusi   itu   menyimpang   dari   simetris   atau   normal.   Sedangkan  Kurtosis  (kadang-kadangdisebut juga  peadkedness) dari suatu distribusi adalah derajat kelancipan dari distribusi tersebutterhadap distribusi normal (kurva normal).\n",
        "\n",
        "**Skewness**\n",
        "\n",
        "Ditinjau dari segi kemiringannya, suatu distribusi dapat dibedakan menjadi tiga:\n",
        "1. Jika koefisien kemiringannya lebih kecil dari nol (<0), model distribusinya negatif.\n",
        "2. Jika koefisien kemiringannya sama dengan nol (= 0), model distribusinya simetris\n",
        "3. Jika koefisien kemiringannya lebih besar dari nol (> 0), model distribusinya positif"
      ],
      "metadata": {
        "id": "SeYJPkcmaWdl"
      }
    },
    {
      "cell_type": "markdown",
      "source": [
        "Cara yang paling umum digunakan adalah  Pearson's  moment  coefficient  of skewness  atau seringdisebut juga moment koefisiensi skewness dengan rumus sebagai berikut:"
      ],
      "metadata": {
        "id": "jVz-zhCyba5b"
      }
    },
    {
      "cell_type": "markdown",
      "source": [
        "![WhatsApp Image 2022-06-28 at 13.34.24.jpeg](data:image/jpeg;base64,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)"
      ],
      "metadata": {
        "id": "BHqC-XbVbeSP"
      }
    },
    {
      "cell_type": "markdown",
      "source": [
        "**Kurtosis**\n",
        "Ditinjau dari segi kelancipannya, suatu distribusi dapat dibedakan menjadi tiga :\n",
        "1. Jika suatu distribusi (kurva) lebih lancip ataulebih ramping dibandingkan terhadap kurva normal,distribusinya disebut leptokurtis.\n",
        "2. Jika suatu distribusi (kurva) normal, distribusinya disebut mesokurtis \n",
        "3. Jika suatu distribusi (kurva) lebih landai atau lebih tumpul dibandingkan terhadap kurva normal,distribusinya disebut platikurtis\n",
        "\n",
        "Kurtosis diukur menggunakan koefisien kurtosis dengan rumus sebagai berikut: \n",
        "\n"
      ],
      "metadata": {
        "id": "WOKc5g8jbe3m"
      }
    },
    {
      "cell_type": "markdown",
      "source": [
        "![WhatsApp Image 2022-06-28 at 13.40.41.jpeg](data:image/jpeg;base64,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)"
      ],
      "metadata": {
        "id": "ZEpQRND4bjWX"
      }
    },
    {
      "cell_type": "code",
      "source": [
        "from scipy.stats import skew, kurtosis\n",
        "\n",
        "data = [50, 58, 43, 64, 47, 50, 56, 47, 60, 64]\n",
        " \n",
        "print(\"skewness: \",skew(data, axis=0, bias=True),\"\\n\")\n",
        "print(\"kurtosis: \",kurtosis(data, axis=0, bias=True))"
      ],
      "metadata": {
        "colab": {
          "base_uri": "https://localhost:8080/"
        },
        "id": "Oj9GYeqVblCd",
        "outputId": "d1c39fda-ec07-4e4c-9218-cda19d88ac2e"
      },
      "execution_count": null,
      "outputs": [
        {
          "output_type": "stream",
          "name": "stdout",
          "text": [
            "skewness:  0.08176290963037283 \n",
            "\n",
            "kurtosis:  -1.380579722068635\n"
          ]
        }
      ]
    },
    {
      "cell_type": "markdown",
      "source": [
        "# **KNN**"
      ],
      "metadata": {
        "id": "yFBsGtjZboi2"
      }
    },
    {
      "cell_type": "markdown",
      "source": [
        "KNN adalah sebuah metode klasifikasi terhadap sekumpulan data berdasarkan pembelajaran data yang sudah terklasifikasikan sebelumya. Termasuk dalam supervised learning, dimana hasil query instance yang baru di klasifikasikan berdasarkan mayoritas kedekatan jarak dari kategori yang adadalah KNN.\n",
        "\n",
        "Diberikan titik query, akan ditemukan sejumlah k - obyek atau (titik training) yang paling dekat dengan titik query. Klasifikasi menggunakan voting terbanyak diantara klasifikasi dari k - obyek. Algoritma k - nearest neighbor (KNN) menggunakan klasifikasi ketetanggaan sebagai nilai prediksi dari query instance yang baru.\n",
        "\n",
        "Ukuran jarak : Dekat atau jauhnya tetangga biasanya dihitung berdasarkan b Euclidean Distance. Dimana D (a, b) adalah jarak skalar dari dua buah vektor data a dan b yang berupa matrik berukuran d dimensi. Dimana D (a, b) adalah jarak skalar dari dua buah vektor data a dan b yang berupa matrik berukuran d dimensi.\n",
        "\n",
        "Algoritma :\n",
        "1. Menentukan nilai k.\n",
        "2. Menghitung jarak antara data uji dengan data latih.\n",
        "3. Mengurutkan jarak dari yang terkecil hingga terbesar.\n",
        "4. Mengambil data sebanyak k tetangga terdekat.\n",
        "5. Menghitung rata - rata dari k tetangga terdekat."
      ],
      "metadata": {
        "id": "_wly4ROUbq0r"
      }
    },
    {
      "cell_type": "markdown",
      "source": [
        "![WhatsApp Image 2022-06-29 at 09.53.56.jpeg](data:image/jpeg;base64,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)"
      ],
      "metadata": {
        "id": "kUBeEDurbtbK"
      }
    },
    {
      "cell_type": "markdown",
      "source": [
        "**mencari data ke 13 (Y)**"
      ],
      "metadata": {
        "id": "Vjq1zpVScK6F"
      }
    },
    {
      "cell_type": "code",
      "source": [
        "#mencari Y\n",
        "data1 = int(input(\"masukkan data di x1 : \"))\n",
        "data2 = int(input(\"masukkan data di x2 : \"))\n",
        "hitung = data1 + (data2 * 2)\n",
        "print(hitung)"
      ],
      "metadata": {
        "colab": {
          "base_uri": "https://localhost:8080/"
        },
        "id": "dL_c0dpScIWI",
        "outputId": "b92c701f-8913-4147-ed15-0befc6b74b35"
      },
      "execution_count": null,
      "outputs": [
        {
          "output_type": "stream",
          "name": "stdout",
          "text": [
            "masukkan data di x1 : 14\n",
            "masukkan data di x2 : 19\n",
            "52\n"
          ]
        }
      ]
    },
    {
      "cell_type": "code",
      "source": [
        "from google.colab import files\n",
        "uploaded = files.upload()"
      ],
      "metadata": {
        "colab": {
          "resources": {
            "http://localhost:8080/nbextensions/google.colab/files.js": {
              "data": "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",
              "ok": true,
              "headers": [
                [
                  "content-type",
                  "application/javascript"
                ]
              ],
              "status": 200,
              "status_text": ""
            }
          },
          "base_uri": "https://localhost:8080/",
          "height": 73
        },
        "id": "azsbzqBYdM24",
        "outputId": "440d287c-785b-450d-aa02-5e3133c957e2"
      },
      "execution_count": null,
      "outputs": [
        {
          "output_type": "display_data",
          "data": {
            "text/plain": [
              "<IPython.core.display.HTML object>"
            ],
            "text/html": [
              "\n",
              "     <input type=\"file\" id=\"files-b2274ee8-42ec-4e99-842c-02c77c1b305c\" name=\"files[]\" multiple disabled\n",
              "        style=\"border:none\" />\n",
              "     <output id=\"result-b2274ee8-42ec-4e99-842c-02c77c1b305c\">\n",
              "      Upload widget is only available when the cell has been executed in the\n",
              "      current browser session. Please rerun this cell to enable.\n",
              "      </output>\n",
              "      <script src=\"/nbextensions/google.colab/files.js\"></script> "
            ]
          },
          "metadata": {}
        },
        {
          "output_type": "stream",
          "name": "stdout",
          "text": [
            "Saving HasilKNN.csv to HasilKNN.csv\n"
          ]
        }
      ]
    },
    {
      "cell_type": "code",
      "source": [
        "import pandas as pd\n",
        "dataset = pd.read_csv('HasilKNN.csv')\n",
        "data = dataset.drop([\"Unnamed: 4\",\"Data.1\",\"Unnamed: 9\"],1) \n",
        "print(data.to_string())"
      ],
      "metadata": {
        "colab": {
          "base_uri": "https://localhost:8080/"
        },
        "id": "y-5eogEWdRSG",
        "outputId": "15fa7e60-35f6-470b-f2ca-db29eaf0501c"
      },
      "execution_count": null,
      "outputs": [
        {
          "output_type": "stream",
          "name": "stdout",
          "text": [
            "        Data    X1    X2     Y    data 1    data 2   Y.1 D(*,14)     JARAK\n",
            "0          1   9.0  11.0  31.0  0.538462  0.466667  31.0  13-Jan  0.657551\n",
            "1          2   8.0  10.0  28.0  0.461538  0.400000  28.0  13-Feb  0.756979\n",
            "2          3   9.0  13.0  35.0  0.538462  0.600000  35.0  13-Mar  0.554914\n",
            "3          4   6.0  11.0  28.0  0.307692  0.466667  28.0  13-Apr  0.814336\n",
            "4          5  12.0  15.0  42.0  0.769231  0.733333  42.0  13-May  0.307863\n",
            "5          6   5.0  10.0  25.0  0.230769  0.400000  25.0  13-Jun  0.916128\n",
            "6          7  14.0  16.0  46.0  0.923077  0.800000  46.0  13-Jul  0.200000\n",
            "7          8  12.0  17.0  46.0  0.769231  0.866667  46.0  13-Aug  0.203584\n",
            "8          9   3.0   7.0  17.0  0.076923  0.200000  17.0  13-Sep  1.164464\n",
            "9         10  15.0  17.0  49.0  1.000000  0.866667  49.0  13-Oct  0.153932\n",
            "10        11  15.0  17.0  49.0  1.000000  0.866667  49.0  13-Nov  0.153932\n",
            "11        12   2.0   4.0  10.0  0.000000  0.000000  10.0  13-Dec  1.360908\n",
            "12        13  14.0  19.0  52.0  0.923077  1.000000  52.0   13-13  0.000000\n",
            "13       NaN   NaN   NaN   NaN       NaN       NaN   NaN     NaN       NaN\n",
            "14   Mininal   2.0   4.0   NaN       NaN       NaN   NaN     NaN       NaN\n",
            "15  Maksimal  15.0  19.0   NaN       NaN       NaN   NaN     NaN       NaN\n"
          ]
        },
        {
          "output_type": "stream",
          "name": "stderr",
          "text": [
            "/usr/local/lib/python3.7/dist-packages/ipykernel_launcher.py:3: FutureWarning: In a future version of pandas all arguments of DataFrame.drop except for the argument 'labels' will be keyword-only\n",
            "  This is separate from the ipykernel package so we can avoid doing imports until\n"
          ]
        }
      ]
    },
    {
      "cell_type": "markdown",
      "source": [
        "Jadi ditemukan Y pada data ke 13 adalah 52\n"
      ],
      "metadata": {
        "id": "0te5hflbdbBS"
      }
    }
  ]
}